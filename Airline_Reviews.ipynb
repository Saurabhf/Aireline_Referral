{
  "nbformat": 4,
  "nbformat_minor": 0,
  "metadata": {
    "colab": {
      "name": "Airline Reviews.ipynb",
      "provenance": [],
      "collapsed_sections": [],
      "authorship_tag": "ABX9TyOAfj+eUsEOw4ugfXpXPCPC"
    },
    "kernelspec": {
      "name": "python3",
      "display_name": "Python 3"
    },
    "language_info": {
      "name": "python"
    }
  },
  "cells": [
    {
      "cell_type": "markdown",
      "source": [
        "**Problem Statement:** Data includes airline reviews from 2006 to 2019 for popular airlines around the world with\n",
        "multiple choice and free text questions. Data is scraped in Spring 2019. The main objective\n",
        "is to predict whether passengers will refer the airline to their friends."
      ],
      "metadata": {
        "id": "OyyLpIKq-1e4"
      }
    },
    {
      "cell_type": "markdown",
      "source": [
        "**Feature descriptions briefly as follows:**\n",
        "* airline: Name of the airline.\n",
        "* overall: Overall point is given to the trip between 1 to 10.\n",
        "* author: Author of the trip\n",
        "* reviewdate: Date of the Review customer review: Review of the customers in free text format\n",
        "* aircraft: Type of the aircraft\n",
        "* travellertype: Type of traveler (e.g. business, leisure)\n",
        "* cabin: Cabin at the flight date flown: Flight date\n",
        "* seatcomfort: Rated between 1-5\n",
        "* cabin service: Rated between 1-5\n",
        "* foodbev: Rated between 1-5 entertainment: Rated between 1-5\n",
        "* groundservice: Rated between 1-5\n",
        "* valueformoney: Rated between 1-5\n",
        "* recommended: Binary, target variable."
      ],
      "metadata": {
        "id": "hxU8fxYy-_4d"
      }
    },
    {
      "cell_type": "code",
      "execution_count": 1,
      "metadata": {
        "colab": {
          "base_uri": "https://localhost:8080/"
        },
        "id": "6hmYMb5490NU",
        "outputId": "11707113-0a7f-4af3-8922-de182a1b1b1b"
      },
      "outputs": [
        {
          "output_type": "stream",
          "name": "stdout",
          "text": [
            "Mounted at /content/drive\n"
          ]
        }
      ],
      "source": [
        "# Mounting drive\n",
        "from google.colab import drive\n",
        "drive.mount('/content/drive')"
      ]
    },
    {
      "cell_type": "code",
      "source": [
        "import pandas as pd\n",
        "import numpy as np\n",
        "import matplotlib.pyplot as plt\n",
        "%matplotlib inline\n",
        "import seaborn as sns\n",
        "import datetime as dt\n",
        "import warnings\n",
        "warnings.filterwarnings(\"ignore\")"
      ],
      "metadata": {
        "id": "Sr34KGWG-zRJ"
      },
      "execution_count": 3,
      "outputs": []
    },
    {
      "cell_type": "code",
      "source": [
        "# Loading Dataset\n",
        "pd.set_option('display.float_format',  '{:,.2f}'.format)\n",
        "data_path = '/content/drive/MyDrive/ML Projects/airlinereviews.xlsx'\n",
        "air_df = pd.read_excel(data_path)"
      ],
      "metadata": {
        "id": "tnx6j7Q-_hm9"
      },
      "execution_count": 156,
      "outputs": []
    },
    {
      "cell_type": "code",
      "source": [
        "# Rows and Feature Count\n",
        "print(f'The total number of rows are {air_df.shape[0]}.')\n",
        "print(f'The total number of columns are {air_df.shape[1]}.')"
      ],
      "metadata": {
        "colab": {
          "base_uri": "https://localhost:8080/"
        },
        "id": "0QB-Zr1kAXew",
        "outputId": "ea077d51-2baa-402b-bbe1-83bfdbdaccaf"
      },
      "execution_count": 157,
      "outputs": [
        {
          "output_type": "stream",
          "name": "stdout",
          "text": [
            "The total number of rows are 131895.\n",
            "The total number of columns are 17.\n"
          ]
        }
      ]
    },
    {
      "cell_type": "code",
      "source": [
        "# Column Names \n",
        "print(air_df.columns)"
      ],
      "metadata": {
        "colab": {
          "base_uri": "https://localhost:8080/"
        },
        "id": "GzCzeTiuBL4Q",
        "outputId": "1090c911-1230-422b-915d-ab64d4f62975"
      },
      "execution_count": 158,
      "outputs": [
        {
          "output_type": "stream",
          "name": "stdout",
          "text": [
            "Index(['airline', 'overall', 'author', 'review_date', 'customer_review',\n",
            "       'aircraft', 'traveller_type', 'cabin', 'route', 'date_flown',\n",
            "       'seat_comfort', 'cabin_service', 'food_bev', 'entertainment',\n",
            "       'ground_service', 'value_for_money', 'recommended'],\n",
            "      dtype='object')\n"
          ]
        }
      ]
    },
    {
      "cell_type": "code",
      "source": [
        "# Inforamtion about dataset\n",
        "air_df.info()"
      ],
      "metadata": {
        "colab": {
          "base_uri": "https://localhost:8080/"
        },
        "id": "Xq-IVQvABUHo",
        "outputId": "c64e1989-cd14-4de8-f76c-f2a7748654e0"
      },
      "execution_count": 159,
      "outputs": [
        {
          "output_type": "stream",
          "name": "stdout",
          "text": [
            "<class 'pandas.core.frame.DataFrame'>\n",
            "RangeIndex: 131895 entries, 0 to 131894\n",
            "Data columns (total 17 columns):\n",
            " #   Column           Non-Null Count  Dtype  \n",
            "---  ------           --------------  -----  \n",
            " 0   airline          65947 non-null  object \n",
            " 1   overall          64017 non-null  float64\n",
            " 2   author           65947 non-null  object \n",
            " 3   review_date      65947 non-null  object \n",
            " 4   customer_review  65947 non-null  object \n",
            " 5   aircraft         19718 non-null  object \n",
            " 6   traveller_type   39755 non-null  object \n",
            " 7   cabin            63303 non-null  object \n",
            " 8   route            39726 non-null  object \n",
            " 9   date_flown       39633 non-null  object \n",
            " 10  seat_comfort     60681 non-null  float64\n",
            " 11  cabin_service    60715 non-null  float64\n",
            " 12  food_bev         52608 non-null  float64\n",
            " 13  entertainment    44193 non-null  float64\n",
            " 14  ground_service   39358 non-null  float64\n",
            " 15  value_for_money  63975 non-null  float64\n",
            " 16  recommended      64440 non-null  object \n",
            "dtypes: float64(7), object(10)\n",
            "memory usage: 17.1+ MB\n"
          ]
        }
      ]
    },
    {
      "cell_type": "markdown",
      "source": [
        "Total 17 features given(including Target). 7 Float and 10 Object."
      ],
      "metadata": {
        "id": "OZJ2ImsgHxR4"
      }
    },
    {
      "cell_type": "code",
      "source": [
        "# Lets see first few rows\n",
        "air_df.shape"
      ],
      "metadata": {
        "colab": {
          "base_uri": "https://localhost:8080/"
        },
        "id": "vEo8mApPC2sk",
        "outputId": "d7b006a4-a568-49fe-c329-770dcc5574e0"
      },
      "execution_count": 160,
      "outputs": [
        {
          "output_type": "execute_result",
          "data": {
            "text/plain": [
              "(131895, 17)"
            ]
          },
          "metadata": {},
          "execution_count": 160
        }
      ]
    },
    {
      "cell_type": "code",
      "source": [
        "# Lets see last few rows\n",
        "air_df.tail()"
      ],
      "metadata": {
        "colab": {
          "base_uri": "https://localhost:8080/",
          "height": 391
        },
        "id": "XywmswaEDLs8",
        "outputId": "486bef34-9326-4a6c-fe07-545172052d00"
      },
      "execution_count": 161,
      "outputs": [
        {
          "output_type": "execute_result",
          "data": {
            "text/plain": [
              "                      airline  overall             author         review_date  \\\n",
              "131890  Ukraine International      NaN   Andriy Yesypenko       19th May 2006   \n",
              "131891                    NaN      NaN                NaN                 NaN   \n",
              "131892  Ukraine International      NaN  Volodya Bilotkach     29th April 2006   \n",
              "131893                    NaN      NaN                NaN                 NaN   \n",
              "131894  Ukraine International      NaN    Kasper Hettinga  10th February 2006   \n",
              "\n",
              "                                          customer_review aircraft  \\\n",
              "131890  Kiev - London (Gatwick) in business class (in ...      NaN   \n",
              "131891                                                NaN      NaN   \n",
              "131892  Several flights - KBP to AMS (3 times one way)...      NaN   \n",
              "131893                                                NaN      NaN   \n",
              "131894  KBP-AMS with UIA. Although it was a relatively...      NaN   \n",
              "\n",
              "       traveller_type cabin route date_flown  seat_comfort  cabin_service  \\\n",
              "131890            NaN   NaN   NaN        NaN           NaN            NaN   \n",
              "131891            NaN   NaN   NaN        NaN           NaN            NaN   \n",
              "131892            NaN   NaN   NaN        NaN           NaN            NaN   \n",
              "131893            NaN   NaN   NaN        NaN           NaN            NaN   \n",
              "131894            NaN   NaN   NaN        NaN           NaN            NaN   \n",
              "\n",
              "        food_bev  entertainment  ground_service  value_for_money recommended  \n",
              "131890       NaN            NaN             NaN              NaN          no  \n",
              "131891       NaN            NaN             NaN              NaN         NaN  \n",
              "131892       NaN            NaN             NaN              NaN          no  \n",
              "131893       NaN            NaN             NaN              NaN         NaN  \n",
              "131894       NaN            NaN             NaN              NaN          no  "
            ],
            "text/html": [
              "\n",
              "  <div id=\"df-63237832-8c6e-4e7c-addd-fb6b9210b789\">\n",
              "    <div class=\"colab-df-container\">\n",
              "      <div>\n",
              "<style scoped>\n",
              "    .dataframe tbody tr th:only-of-type {\n",
              "        vertical-align: middle;\n",
              "    }\n",
              "\n",
              "    .dataframe tbody tr th {\n",
              "        vertical-align: top;\n",
              "    }\n",
              "\n",
              "    .dataframe thead th {\n",
              "        text-align: right;\n",
              "    }\n",
              "</style>\n",
              "<table border=\"1\" class=\"dataframe\">\n",
              "  <thead>\n",
              "    <tr style=\"text-align: right;\">\n",
              "      <th></th>\n",
              "      <th>airline</th>\n",
              "      <th>overall</th>\n",
              "      <th>author</th>\n",
              "      <th>review_date</th>\n",
              "      <th>customer_review</th>\n",
              "      <th>aircraft</th>\n",
              "      <th>traveller_type</th>\n",
              "      <th>cabin</th>\n",
              "      <th>route</th>\n",
              "      <th>date_flown</th>\n",
              "      <th>seat_comfort</th>\n",
              "      <th>cabin_service</th>\n",
              "      <th>food_bev</th>\n",
              "      <th>entertainment</th>\n",
              "      <th>ground_service</th>\n",
              "      <th>value_for_money</th>\n",
              "      <th>recommended</th>\n",
              "    </tr>\n",
              "  </thead>\n",
              "  <tbody>\n",
              "    <tr>\n",
              "      <th>131890</th>\n",
              "      <td>Ukraine International</td>\n",
              "      <td>NaN</td>\n",
              "      <td>Andriy Yesypenko</td>\n",
              "      <td>19th May 2006</td>\n",
              "      <td>Kiev - London (Gatwick) in business class (in ...</td>\n",
              "      <td>NaN</td>\n",
              "      <td>NaN</td>\n",
              "      <td>NaN</td>\n",
              "      <td>NaN</td>\n",
              "      <td>NaN</td>\n",
              "      <td>NaN</td>\n",
              "      <td>NaN</td>\n",
              "      <td>NaN</td>\n",
              "      <td>NaN</td>\n",
              "      <td>NaN</td>\n",
              "      <td>NaN</td>\n",
              "      <td>no</td>\n",
              "    </tr>\n",
              "    <tr>\n",
              "      <th>131891</th>\n",
              "      <td>NaN</td>\n",
              "      <td>NaN</td>\n",
              "      <td>NaN</td>\n",
              "      <td>NaN</td>\n",
              "      <td>NaN</td>\n",
              "      <td>NaN</td>\n",
              "      <td>NaN</td>\n",
              "      <td>NaN</td>\n",
              "      <td>NaN</td>\n",
              "      <td>NaN</td>\n",
              "      <td>NaN</td>\n",
              "      <td>NaN</td>\n",
              "      <td>NaN</td>\n",
              "      <td>NaN</td>\n",
              "      <td>NaN</td>\n",
              "      <td>NaN</td>\n",
              "      <td>NaN</td>\n",
              "    </tr>\n",
              "    <tr>\n",
              "      <th>131892</th>\n",
              "      <td>Ukraine International</td>\n",
              "      <td>NaN</td>\n",
              "      <td>Volodya Bilotkach</td>\n",
              "      <td>29th April 2006</td>\n",
              "      <td>Several flights - KBP to AMS (3 times one way)...</td>\n",
              "      <td>NaN</td>\n",
              "      <td>NaN</td>\n",
              "      <td>NaN</td>\n",
              "      <td>NaN</td>\n",
              "      <td>NaN</td>\n",
              "      <td>NaN</td>\n",
              "      <td>NaN</td>\n",
              "      <td>NaN</td>\n",
              "      <td>NaN</td>\n",
              "      <td>NaN</td>\n",
              "      <td>NaN</td>\n",
              "      <td>no</td>\n",
              "    </tr>\n",
              "    <tr>\n",
              "      <th>131893</th>\n",
              "      <td>NaN</td>\n",
              "      <td>NaN</td>\n",
              "      <td>NaN</td>\n",
              "      <td>NaN</td>\n",
              "      <td>NaN</td>\n",
              "      <td>NaN</td>\n",
              "      <td>NaN</td>\n",
              "      <td>NaN</td>\n",
              "      <td>NaN</td>\n",
              "      <td>NaN</td>\n",
              "      <td>NaN</td>\n",
              "      <td>NaN</td>\n",
              "      <td>NaN</td>\n",
              "      <td>NaN</td>\n",
              "      <td>NaN</td>\n",
              "      <td>NaN</td>\n",
              "      <td>NaN</td>\n",
              "    </tr>\n",
              "    <tr>\n",
              "      <th>131894</th>\n",
              "      <td>Ukraine International</td>\n",
              "      <td>NaN</td>\n",
              "      <td>Kasper Hettinga</td>\n",
              "      <td>10th February 2006</td>\n",
              "      <td>KBP-AMS with UIA. Although it was a relatively...</td>\n",
              "      <td>NaN</td>\n",
              "      <td>NaN</td>\n",
              "      <td>NaN</td>\n",
              "      <td>NaN</td>\n",
              "      <td>NaN</td>\n",
              "      <td>NaN</td>\n",
              "      <td>NaN</td>\n",
              "      <td>NaN</td>\n",
              "      <td>NaN</td>\n",
              "      <td>NaN</td>\n",
              "      <td>NaN</td>\n",
              "      <td>no</td>\n",
              "    </tr>\n",
              "  </tbody>\n",
              "</table>\n",
              "</div>\n",
              "      <button class=\"colab-df-convert\" onclick=\"convertToInteractive('df-63237832-8c6e-4e7c-addd-fb6b9210b789')\"\n",
              "              title=\"Convert this dataframe to an interactive table.\"\n",
              "              style=\"display:none;\">\n",
              "        \n",
              "  <svg xmlns=\"http://www.w3.org/2000/svg\" height=\"24px\"viewBox=\"0 0 24 24\"\n",
              "       width=\"24px\">\n",
              "    <path d=\"M0 0h24v24H0V0z\" fill=\"none\"/>\n",
              "    <path d=\"M18.56 5.44l.94 2.06.94-2.06 2.06-.94-2.06-.94-.94-2.06-.94 2.06-2.06.94zm-11 1L8.5 8.5l.94-2.06 2.06-.94-2.06-.94L8.5 2.5l-.94 2.06-2.06.94zm10 10l.94 2.06.94-2.06 2.06-.94-2.06-.94-.94-2.06-.94 2.06-2.06.94z\"/><path d=\"M17.41 7.96l-1.37-1.37c-.4-.4-.92-.59-1.43-.59-.52 0-1.04.2-1.43.59L10.3 9.45l-7.72 7.72c-.78.78-.78 2.05 0 2.83L4 21.41c.39.39.9.59 1.41.59.51 0 1.02-.2 1.41-.59l7.78-7.78 2.81-2.81c.8-.78.8-2.07 0-2.86zM5.41 20L4 18.59l7.72-7.72 1.47 1.35L5.41 20z\"/>\n",
              "  </svg>\n",
              "      </button>\n",
              "      \n",
              "  <style>\n",
              "    .colab-df-container {\n",
              "      display:flex;\n",
              "      flex-wrap:wrap;\n",
              "      gap: 12px;\n",
              "    }\n",
              "\n",
              "    .colab-df-convert {\n",
              "      background-color: #E8F0FE;\n",
              "      border: none;\n",
              "      border-radius: 50%;\n",
              "      cursor: pointer;\n",
              "      display: none;\n",
              "      fill: #1967D2;\n",
              "      height: 32px;\n",
              "      padding: 0 0 0 0;\n",
              "      width: 32px;\n",
              "    }\n",
              "\n",
              "    .colab-df-convert:hover {\n",
              "      background-color: #E2EBFA;\n",
              "      box-shadow: 0px 1px 2px rgba(60, 64, 67, 0.3), 0px 1px 3px 1px rgba(60, 64, 67, 0.15);\n",
              "      fill: #174EA6;\n",
              "    }\n",
              "\n",
              "    [theme=dark] .colab-df-convert {\n",
              "      background-color: #3B4455;\n",
              "      fill: #D2E3FC;\n",
              "    }\n",
              "\n",
              "    [theme=dark] .colab-df-convert:hover {\n",
              "      background-color: #434B5C;\n",
              "      box-shadow: 0px 1px 3px 1px rgba(0, 0, 0, 0.15);\n",
              "      filter: drop-shadow(0px 1px 2px rgba(0, 0, 0, 0.3));\n",
              "      fill: #FFFFFF;\n",
              "    }\n",
              "  </style>\n",
              "\n",
              "      <script>\n",
              "        const buttonEl =\n",
              "          document.querySelector('#df-63237832-8c6e-4e7c-addd-fb6b9210b789 button.colab-df-convert');\n",
              "        buttonEl.style.display =\n",
              "          google.colab.kernel.accessAllowed ? 'block' : 'none';\n",
              "\n",
              "        async function convertToInteractive(key) {\n",
              "          const element = document.querySelector('#df-63237832-8c6e-4e7c-addd-fb6b9210b789');\n",
              "          const dataTable =\n",
              "            await google.colab.kernel.invokeFunction('convertToInteractive',\n",
              "                                                     [key], {});\n",
              "          if (!dataTable) return;\n",
              "\n",
              "          const docLinkHtml = 'Like what you see? Visit the ' +\n",
              "            '<a target=\"_blank\" href=https://colab.research.google.com/notebooks/data_table.ipynb>data table notebook</a>'\n",
              "            + ' to learn more about interactive tables.';\n",
              "          element.innerHTML = '';\n",
              "          dataTable['output_type'] = 'display_data';\n",
              "          await google.colab.output.renderOutput(dataTable, element);\n",
              "          const docLink = document.createElement('div');\n",
              "          docLink.innerHTML = docLinkHtml;\n",
              "          element.appendChild(docLink);\n",
              "        }\n",
              "      </script>\n",
              "    </div>\n",
              "  </div>\n",
              "  "
            ]
          },
          "metadata": {},
          "execution_count": 161
        }
      ]
    },
    {
      "cell_type": "code",
      "source": [
        "# Unique count \n",
        "air_df.nunique()"
      ],
      "metadata": {
        "colab": {
          "base_uri": "https://localhost:8080/"
        },
        "id": "2RSMBMt7BlPD",
        "outputId": "236418af-0fbf-4531-c580-f6f97ba18fd3"
      },
      "execution_count": 162,
      "outputs": [
        {
          "output_type": "execute_result",
          "data": {
            "text/plain": [
              "airline               81\n",
              "overall               10\n",
              "author             44069\n",
              "review_date         3015\n",
              "customer_review    61172\n",
              "aircraft            2088\n",
              "traveller_type         4\n",
              "cabin                  4\n",
              "route              24549\n",
              "date_flown            63\n",
              "seat_comfort           5\n",
              "cabin_service          5\n",
              "food_bev               5\n",
              "entertainment          5\n",
              "ground_service         5\n",
              "value_for_money        5\n",
              "recommended            2\n",
              "dtype: int64"
            ]
          },
          "metadata": {},
          "execution_count": 162
        }
      ]
    },
    {
      "cell_type": "code",
      "source": [
        "# Descriptionof Numericl Features\n",
        "air_df.describe()"
      ],
      "metadata": {
        "colab": {
          "base_uri": "https://localhost:8080/",
          "height": 300
        },
        "id": "4TwgN3oeEQ_c",
        "outputId": "3569d428-4e92-410e-e801-f90d707432ba"
      },
      "execution_count": 163,
      "outputs": [
        {
          "output_type": "execute_result",
          "data": {
            "text/plain": [
              "        overall  seat_comfort  cabin_service  food_bev  entertainment  \\\n",
              "count 64,017.00     60,681.00      60,715.00 52,608.00      44,193.00   \n",
              "mean       5.15          2.95           3.19      2.91           2.86   \n",
              "std        3.48          1.44           1.57      1.48           1.51   \n",
              "min        1.00          1.00           1.00      1.00           1.00   \n",
              "25%        1.00          1.00           2.00      1.00           1.00   \n",
              "50%        5.00          3.00           3.00      3.00           3.00   \n",
              "75%        9.00          4.00           5.00      4.00           4.00   \n",
              "max       10.00          5.00           5.00      5.00           5.00   \n",
              "\n",
              "       ground_service  value_for_money  \n",
              "count       39,358.00        63,975.00  \n",
              "mean             2.69             2.94  \n",
              "std              1.61             1.59  \n",
              "min              1.00             1.00  \n",
              "25%              1.00             1.00  \n",
              "50%              3.00             3.00  \n",
              "75%              4.00             4.00  \n",
              "max              5.00             5.00  "
            ],
            "text/html": [
              "\n",
              "  <div id=\"df-a005ef0c-9db6-4b98-8696-6be162ebe4a1\">\n",
              "    <div class=\"colab-df-container\">\n",
              "      <div>\n",
              "<style scoped>\n",
              "    .dataframe tbody tr th:only-of-type {\n",
              "        vertical-align: middle;\n",
              "    }\n",
              "\n",
              "    .dataframe tbody tr th {\n",
              "        vertical-align: top;\n",
              "    }\n",
              "\n",
              "    .dataframe thead th {\n",
              "        text-align: right;\n",
              "    }\n",
              "</style>\n",
              "<table border=\"1\" class=\"dataframe\">\n",
              "  <thead>\n",
              "    <tr style=\"text-align: right;\">\n",
              "      <th></th>\n",
              "      <th>overall</th>\n",
              "      <th>seat_comfort</th>\n",
              "      <th>cabin_service</th>\n",
              "      <th>food_bev</th>\n",
              "      <th>entertainment</th>\n",
              "      <th>ground_service</th>\n",
              "      <th>value_for_money</th>\n",
              "    </tr>\n",
              "  </thead>\n",
              "  <tbody>\n",
              "    <tr>\n",
              "      <th>count</th>\n",
              "      <td>64,017.00</td>\n",
              "      <td>60,681.00</td>\n",
              "      <td>60,715.00</td>\n",
              "      <td>52,608.00</td>\n",
              "      <td>44,193.00</td>\n",
              "      <td>39,358.00</td>\n",
              "      <td>63,975.00</td>\n",
              "    </tr>\n",
              "    <tr>\n",
              "      <th>mean</th>\n",
              "      <td>5.15</td>\n",
              "      <td>2.95</td>\n",
              "      <td>3.19</td>\n",
              "      <td>2.91</td>\n",
              "      <td>2.86</td>\n",
              "      <td>2.69</td>\n",
              "      <td>2.94</td>\n",
              "    </tr>\n",
              "    <tr>\n",
              "      <th>std</th>\n",
              "      <td>3.48</td>\n",
              "      <td>1.44</td>\n",
              "      <td>1.57</td>\n",
              "      <td>1.48</td>\n",
              "      <td>1.51</td>\n",
              "      <td>1.61</td>\n",
              "      <td>1.59</td>\n",
              "    </tr>\n",
              "    <tr>\n",
              "      <th>min</th>\n",
              "      <td>1.00</td>\n",
              "      <td>1.00</td>\n",
              "      <td>1.00</td>\n",
              "      <td>1.00</td>\n",
              "      <td>1.00</td>\n",
              "      <td>1.00</td>\n",
              "      <td>1.00</td>\n",
              "    </tr>\n",
              "    <tr>\n",
              "      <th>25%</th>\n",
              "      <td>1.00</td>\n",
              "      <td>1.00</td>\n",
              "      <td>2.00</td>\n",
              "      <td>1.00</td>\n",
              "      <td>1.00</td>\n",
              "      <td>1.00</td>\n",
              "      <td>1.00</td>\n",
              "    </tr>\n",
              "    <tr>\n",
              "      <th>50%</th>\n",
              "      <td>5.00</td>\n",
              "      <td>3.00</td>\n",
              "      <td>3.00</td>\n",
              "      <td>3.00</td>\n",
              "      <td>3.00</td>\n",
              "      <td>3.00</td>\n",
              "      <td>3.00</td>\n",
              "    </tr>\n",
              "    <tr>\n",
              "      <th>75%</th>\n",
              "      <td>9.00</td>\n",
              "      <td>4.00</td>\n",
              "      <td>5.00</td>\n",
              "      <td>4.00</td>\n",
              "      <td>4.00</td>\n",
              "      <td>4.00</td>\n",
              "      <td>4.00</td>\n",
              "    </tr>\n",
              "    <tr>\n",
              "      <th>max</th>\n",
              "      <td>10.00</td>\n",
              "      <td>5.00</td>\n",
              "      <td>5.00</td>\n",
              "      <td>5.00</td>\n",
              "      <td>5.00</td>\n",
              "      <td>5.00</td>\n",
              "      <td>5.00</td>\n",
              "    </tr>\n",
              "  </tbody>\n",
              "</table>\n",
              "</div>\n",
              "      <button class=\"colab-df-convert\" onclick=\"convertToInteractive('df-a005ef0c-9db6-4b98-8696-6be162ebe4a1')\"\n",
              "              title=\"Convert this dataframe to an interactive table.\"\n",
              "              style=\"display:none;\">\n",
              "        \n",
              "  <svg xmlns=\"http://www.w3.org/2000/svg\" height=\"24px\"viewBox=\"0 0 24 24\"\n",
              "       width=\"24px\">\n",
              "    <path d=\"M0 0h24v24H0V0z\" fill=\"none\"/>\n",
              "    <path d=\"M18.56 5.44l.94 2.06.94-2.06 2.06-.94-2.06-.94-.94-2.06-.94 2.06-2.06.94zm-11 1L8.5 8.5l.94-2.06 2.06-.94-2.06-.94L8.5 2.5l-.94 2.06-2.06.94zm10 10l.94 2.06.94-2.06 2.06-.94-2.06-.94-.94-2.06-.94 2.06-2.06.94z\"/><path d=\"M17.41 7.96l-1.37-1.37c-.4-.4-.92-.59-1.43-.59-.52 0-1.04.2-1.43.59L10.3 9.45l-7.72 7.72c-.78.78-.78 2.05 0 2.83L4 21.41c.39.39.9.59 1.41.59.51 0 1.02-.2 1.41-.59l7.78-7.78 2.81-2.81c.8-.78.8-2.07 0-2.86zM5.41 20L4 18.59l7.72-7.72 1.47 1.35L5.41 20z\"/>\n",
              "  </svg>\n",
              "      </button>\n",
              "      \n",
              "  <style>\n",
              "    .colab-df-container {\n",
              "      display:flex;\n",
              "      flex-wrap:wrap;\n",
              "      gap: 12px;\n",
              "    }\n",
              "\n",
              "    .colab-df-convert {\n",
              "      background-color: #E8F0FE;\n",
              "      border: none;\n",
              "      border-radius: 50%;\n",
              "      cursor: pointer;\n",
              "      display: none;\n",
              "      fill: #1967D2;\n",
              "      height: 32px;\n",
              "      padding: 0 0 0 0;\n",
              "      width: 32px;\n",
              "    }\n",
              "\n",
              "    .colab-df-convert:hover {\n",
              "      background-color: #E2EBFA;\n",
              "      box-shadow: 0px 1px 2px rgba(60, 64, 67, 0.3), 0px 1px 3px 1px rgba(60, 64, 67, 0.15);\n",
              "      fill: #174EA6;\n",
              "    }\n",
              "\n",
              "    [theme=dark] .colab-df-convert {\n",
              "      background-color: #3B4455;\n",
              "      fill: #D2E3FC;\n",
              "    }\n",
              "\n",
              "    [theme=dark] .colab-df-convert:hover {\n",
              "      background-color: #434B5C;\n",
              "      box-shadow: 0px 1px 3px 1px rgba(0, 0, 0, 0.15);\n",
              "      filter: drop-shadow(0px 1px 2px rgba(0, 0, 0, 0.3));\n",
              "      fill: #FFFFFF;\n",
              "    }\n",
              "  </style>\n",
              "\n",
              "      <script>\n",
              "        const buttonEl =\n",
              "          document.querySelector('#df-a005ef0c-9db6-4b98-8696-6be162ebe4a1 button.colab-df-convert');\n",
              "        buttonEl.style.display =\n",
              "          google.colab.kernel.accessAllowed ? 'block' : 'none';\n",
              "\n",
              "        async function convertToInteractive(key) {\n",
              "          const element = document.querySelector('#df-a005ef0c-9db6-4b98-8696-6be162ebe4a1');\n",
              "          const dataTable =\n",
              "            await google.colab.kernel.invokeFunction('convertToInteractive',\n",
              "                                                     [key], {});\n",
              "          if (!dataTable) return;\n",
              "\n",
              "          const docLinkHtml = 'Like what you see? Visit the ' +\n",
              "            '<a target=\"_blank\" href=https://colab.research.google.com/notebooks/data_table.ipynb>data table notebook</a>'\n",
              "            + ' to learn more about interactive tables.';\n",
              "          element.innerHTML = '';\n",
              "          dataTable['output_type'] = 'display_data';\n",
              "          await google.colab.output.renderOutput(dataTable, element);\n",
              "          const docLink = document.createElement('div');\n",
              "          docLink.innerHTML = docLinkHtml;\n",
              "          element.appendChild(docLink);\n",
              "        }\n",
              "      </script>\n",
              "    </div>\n",
              "  </div>\n",
              "  "
            ]
          },
          "metadata": {},
          "execution_count": 163
        }
      ]
    },
    {
      "cell_type": "code",
      "source": [
        "# Null values count\n",
        "air_df.isnull().sum()"
      ],
      "metadata": {
        "colab": {
          "base_uri": "https://localhost:8080/"
        },
        "id": "lX5aUg1NCBYJ",
        "outputId": "cf4f2734-1fc5-493b-bf30-63e57a5594a3"
      },
      "execution_count": 164,
      "outputs": [
        {
          "output_type": "execute_result",
          "data": {
            "text/plain": [
              "airline             65948\n",
              "overall             67878\n",
              "author              65948\n",
              "review_date         65948\n",
              "customer_review     65948\n",
              "aircraft           112177\n",
              "traveller_type      92140\n",
              "cabin               68592\n",
              "route               92169\n",
              "date_flown          92262\n",
              "seat_comfort        71214\n",
              "cabin_service       71180\n",
              "food_bev            79287\n",
              "entertainment       87702\n",
              "ground_service      92537\n",
              "value_for_money     67920\n",
              "recommended         67455\n",
              "dtype: int64"
            ]
          },
          "metadata": {},
          "execution_count": 164
        }
      ]
    },
    {
      "cell_type": "markdown",
      "source": [
        "**Data Processing**"
      ],
      "metadata": {
        "id": "YvtqJJ_OGNuI"
      }
    },
    {
      "cell_type": "code",
      "source": [
        "# Dropping rows which has NaN value in all each cell\n",
        "air_df.dropna(how = 'all',inplace = True)"
      ],
      "metadata": {
        "id": "wSdng-h0FZy8"
      },
      "execution_count": 165,
      "outputs": []
    },
    {
      "cell_type": "code",
      "source": [
        "# Renaming column names according the data description\n",
        "air_df.rename(columns={'overall':'score', 'customer_review':'text_of_reveiw'}, inplace=True)"
      ],
      "metadata": {
        "id": "4LkNVs5pG8Ui"
      },
      "execution_count": 166,
      "outputs": []
    },
    {
      "cell_type": "code",
      "source": [
        "# Missing value count by column wise\n",
        "air_df.isnull().sum()"
      ],
      "metadata": {
        "colab": {
          "base_uri": "https://localhost:8080/"
        },
        "id": "TnWGlpSmI7u6",
        "outputId": "33baaedf-ac95-48d0-cdd1-8e935ea4bfa4"
      },
      "execution_count": 167,
      "outputs": [
        {
          "output_type": "execute_result",
          "data": {
            "text/plain": [
              "airline                0\n",
              "score               1930\n",
              "author                 0\n",
              "review_date            0\n",
              "text_of_reveiw         0\n",
              "aircraft           46229\n",
              "traveller_type     26192\n",
              "cabin               2644\n",
              "route              26221\n",
              "date_flown         26314\n",
              "seat_comfort        5266\n",
              "cabin_service       5232\n",
              "food_bev           13339\n",
              "entertainment      21754\n",
              "ground_service     26589\n",
              "value_for_money     1972\n",
              "recommended         1507\n",
              "dtype: int64"
            ]
          },
          "metadata": {},
          "execution_count": 167
        }
      ]
    },
    {
      "cell_type": "code",
      "source": [
        "# Checking missing values in each column %\n",
        "missing_val_count_by_column = air_df.isnull().sum()/len(air_df)\n",
        "print((missing_val_count_by_column).sort_values(ascending=False))"
      ],
      "metadata": {
        "colab": {
          "base_uri": "https://localhost:8080/"
        },
        "id": "SzHCcSHAI_Sx",
        "outputId": "93c82453-afc6-4ce3-d282-b22512a52ace"
      },
      "execution_count": 169,
      "outputs": [
        {
          "output_type": "stream",
          "name": "stdout",
          "text": [
            "aircraft          0.70\n",
            "ground_service    0.40\n",
            "date_flown        0.40\n",
            "route             0.40\n",
            "traveller_type    0.40\n",
            "entertainment     0.33\n",
            "food_bev          0.20\n",
            "seat_comfort      0.08\n",
            "cabin_service     0.08\n",
            "cabin             0.04\n",
            "value_for_money   0.03\n",
            "score             0.03\n",
            "recommended       0.02\n",
            "text_of_reveiw    0.00\n",
            "review_date       0.00\n",
            "author            0.00\n",
            "airline           0.00\n",
            "dtype: float64\n"
          ]
        }
      ]
    },
    {
      "cell_type": "code",
      "source": [
        "# Dropping Aircraft and Author columns\n",
        "air_df.drop(columns = ['aircraft','author', 'date_flown'], inplace = True)"
      ],
      "metadata": {
        "id": "so7nfUy9J0ut"
      },
      "execution_count": 141,
      "outputs": []
    },
    {
      "cell_type": "code",
      "source": [
        "# Checking Duplicated Records. Keeping last record.\n",
        "air_df.duplicated(keep='last').sum()"
      ],
      "metadata": {
        "colab": {
          "base_uri": "https://localhost:8080/"
        },
        "id": "Fz1qn_fYLM_d",
        "outputId": "5d700fd0-e765-44dc-e225-9dac02fad435"
      },
      "execution_count": 142,
      "outputs": [
        {
          "output_type": "execute_result",
          "data": {
            "text/plain": [
              "4764"
            ]
          },
          "metadata": {},
          "execution_count": 142
        }
      ]
    },
    {
      "cell_type": "code",
      "source": [
        "# Droppinng duplicated records keeping last\n",
        "air_df = air_df.drop_duplicates(keep='last')"
      ],
      "metadata": {
        "id": "Qv4694zpL7Y4"
      },
      "execution_count": 112,
      "outputs": []
    },
    {
      "cell_type": "code",
      "source": [
        "# Shape of dataframe after removing duplicated values\n",
        "air_df.shape"
      ],
      "metadata": {
        "colab": {
          "base_uri": "https://localhost:8080/"
        },
        "id": "zPnhJMIEPrVX",
        "outputId": "b93d0e21-4e11-4f1e-be6e-0f57d1e6516b"
      },
      "execution_count": 143,
      "outputs": [
        {
          "output_type": "execute_result",
          "data": {
            "text/plain": [
              "(65947, 14)"
            ]
          },
          "metadata": {},
          "execution_count": 143
        }
      ]
    },
    {
      "cell_type": "code",
      "source": [
        "# Null values count\n",
        "air_df.isnull().sum()"
      ],
      "metadata": {
        "colab": {
          "base_uri": "https://localhost:8080/"
        },
        "id": "1nAb-kuhb_A5",
        "outputId": "a52c3a87-1154-4f70-9e1f-03c8dff91e4c"
      },
      "execution_count": 144,
      "outputs": [
        {
          "output_type": "execute_result",
          "data": {
            "text/plain": [
              "airline                0\n",
              "score               1930\n",
              "review_date            0\n",
              "text_of_reveiw         0\n",
              "traveller_type     26192\n",
              "cabin               2644\n",
              "route              26221\n",
              "seat_comfort        5266\n",
              "cabin_service       5232\n",
              "food_bev           13339\n",
              "entertainment      21754\n",
              "ground_service     26589\n",
              "value_for_money     1972\n",
              "recommended         1507\n",
              "dtype: int64"
            ]
          },
          "metadata": {},
          "execution_count": 144
        }
      ]
    },
    {
      "cell_type": "code",
      "source": [
        "# Creating copy for data processing, feature engineering, EDA and model building\n",
        "airdf = air_df.copy()"
      ],
      "metadata": {
        "id": "2NJpJsEfcvgA"
      },
      "execution_count": 145,
      "outputs": []
    },
    {
      "cell_type": "code",
      "source": [
        "airdf.head(3)"
      ],
      "metadata": {
        "colab": {
          "base_uri": "https://localhost:8080/",
          "height": 363
        },
        "id": "8tt4_AMVez9f",
        "outputId": "20dfadce-a663-40dc-9b0e-6ec7b7b11650"
      },
      "execution_count": 146,
      "outputs": [
        {
          "output_type": "execute_result",
          "data": {
            "text/plain": [
              "            airline  score   review_date  \\\n",
              "1  Turkish Airlines   7.00  8th May 2019   \n",
              "3  Turkish Airlines   2.00  7th May 2019   \n",
              "5  Turkish Airlines   3.00  7th May 2019   \n",
              "\n",
              "                                      text_of_reveiw  traveller_type  \\\n",
              "1  âœ… Trip Verified | London to Izmir via Istanb...        Business   \n",
              "3  âœ… Trip Verified | Istanbul to Bucharest. We ...  Family Leisure   \n",
              "5  âœ… Trip Verified | Rome to Prishtina via Ista...        Business   \n",
              "\n",
              "           cabin                           route  seat_comfort  cabin_service  \\\n",
              "1  Economy Class    London to Izmir via Istanbul          4.00           5.00   \n",
              "3  Economy Class           Istanbul to Bucharest          4.00           1.00   \n",
              "5  Economy Class  Rome to Prishtina via Istanbul          1.00           4.00   \n",
              "\n",
              "   food_bev  entertainment  ground_service  value_for_money recommended  \n",
              "1      4.00           4.00            2.00             4.00         yes  \n",
              "3      1.00           1.00            1.00             1.00          no  \n",
              "5      1.00           3.00            1.00             2.00          no  "
            ],
            "text/html": [
              "\n",
              "  <div id=\"df-bb2815ff-7c20-4251-80a5-e8bbab50b9df\">\n",
              "    <div class=\"colab-df-container\">\n",
              "      <div>\n",
              "<style scoped>\n",
              "    .dataframe tbody tr th:only-of-type {\n",
              "        vertical-align: middle;\n",
              "    }\n",
              "\n",
              "    .dataframe tbody tr th {\n",
              "        vertical-align: top;\n",
              "    }\n",
              "\n",
              "    .dataframe thead th {\n",
              "        text-align: right;\n",
              "    }\n",
              "</style>\n",
              "<table border=\"1\" class=\"dataframe\">\n",
              "  <thead>\n",
              "    <tr style=\"text-align: right;\">\n",
              "      <th></th>\n",
              "      <th>airline</th>\n",
              "      <th>score</th>\n",
              "      <th>review_date</th>\n",
              "      <th>text_of_reveiw</th>\n",
              "      <th>traveller_type</th>\n",
              "      <th>cabin</th>\n",
              "      <th>route</th>\n",
              "      <th>seat_comfort</th>\n",
              "      <th>cabin_service</th>\n",
              "      <th>food_bev</th>\n",
              "      <th>entertainment</th>\n",
              "      <th>ground_service</th>\n",
              "      <th>value_for_money</th>\n",
              "      <th>recommended</th>\n",
              "    </tr>\n",
              "  </thead>\n",
              "  <tbody>\n",
              "    <tr>\n",
              "      <th>1</th>\n",
              "      <td>Turkish Airlines</td>\n",
              "      <td>7.00</td>\n",
              "      <td>8th May 2019</td>\n",
              "      <td>âœ… Trip Verified | London to Izmir via Istanb...</td>\n",
              "      <td>Business</td>\n",
              "      <td>Economy Class</td>\n",
              "      <td>London to Izmir via Istanbul</td>\n",
              "      <td>4.00</td>\n",
              "      <td>5.00</td>\n",
              "      <td>4.00</td>\n",
              "      <td>4.00</td>\n",
              "      <td>2.00</td>\n",
              "      <td>4.00</td>\n",
              "      <td>yes</td>\n",
              "    </tr>\n",
              "    <tr>\n",
              "      <th>3</th>\n",
              "      <td>Turkish Airlines</td>\n",
              "      <td>2.00</td>\n",
              "      <td>7th May 2019</td>\n",
              "      <td>âœ… Trip Verified | Istanbul to Bucharest. We ...</td>\n",
              "      <td>Family Leisure</td>\n",
              "      <td>Economy Class</td>\n",
              "      <td>Istanbul to Bucharest</td>\n",
              "      <td>4.00</td>\n",
              "      <td>1.00</td>\n",
              "      <td>1.00</td>\n",
              "      <td>1.00</td>\n",
              "      <td>1.00</td>\n",
              "      <td>1.00</td>\n",
              "      <td>no</td>\n",
              "    </tr>\n",
              "    <tr>\n",
              "      <th>5</th>\n",
              "      <td>Turkish Airlines</td>\n",
              "      <td>3.00</td>\n",
              "      <td>7th May 2019</td>\n",
              "      <td>âœ… Trip Verified | Rome to Prishtina via Ista...</td>\n",
              "      <td>Business</td>\n",
              "      <td>Economy Class</td>\n",
              "      <td>Rome to Prishtina via Istanbul</td>\n",
              "      <td>1.00</td>\n",
              "      <td>4.00</td>\n",
              "      <td>1.00</td>\n",
              "      <td>3.00</td>\n",
              "      <td>1.00</td>\n",
              "      <td>2.00</td>\n",
              "      <td>no</td>\n",
              "    </tr>\n",
              "  </tbody>\n",
              "</table>\n",
              "</div>\n",
              "      <button class=\"colab-df-convert\" onclick=\"convertToInteractive('df-bb2815ff-7c20-4251-80a5-e8bbab50b9df')\"\n",
              "              title=\"Convert this dataframe to an interactive table.\"\n",
              "              style=\"display:none;\">\n",
              "        \n",
              "  <svg xmlns=\"http://www.w3.org/2000/svg\" height=\"24px\"viewBox=\"0 0 24 24\"\n",
              "       width=\"24px\">\n",
              "    <path d=\"M0 0h24v24H0V0z\" fill=\"none\"/>\n",
              "    <path d=\"M18.56 5.44l.94 2.06.94-2.06 2.06-.94-2.06-.94-.94-2.06-.94 2.06-2.06.94zm-11 1L8.5 8.5l.94-2.06 2.06-.94-2.06-.94L8.5 2.5l-.94 2.06-2.06.94zm10 10l.94 2.06.94-2.06 2.06-.94-2.06-.94-.94-2.06-.94 2.06-2.06.94z\"/><path d=\"M17.41 7.96l-1.37-1.37c-.4-.4-.92-.59-1.43-.59-.52 0-1.04.2-1.43.59L10.3 9.45l-7.72 7.72c-.78.78-.78 2.05 0 2.83L4 21.41c.39.39.9.59 1.41.59.51 0 1.02-.2 1.41-.59l7.78-7.78 2.81-2.81c.8-.78.8-2.07 0-2.86zM5.41 20L4 18.59l7.72-7.72 1.47 1.35L5.41 20z\"/>\n",
              "  </svg>\n",
              "      </button>\n",
              "      \n",
              "  <style>\n",
              "    .colab-df-container {\n",
              "      display:flex;\n",
              "      flex-wrap:wrap;\n",
              "      gap: 12px;\n",
              "    }\n",
              "\n",
              "    .colab-df-convert {\n",
              "      background-color: #E8F0FE;\n",
              "      border: none;\n",
              "      border-radius: 50%;\n",
              "      cursor: pointer;\n",
              "      display: none;\n",
              "      fill: #1967D2;\n",
              "      height: 32px;\n",
              "      padding: 0 0 0 0;\n",
              "      width: 32px;\n",
              "    }\n",
              "\n",
              "    .colab-df-convert:hover {\n",
              "      background-color: #E2EBFA;\n",
              "      box-shadow: 0px 1px 2px rgba(60, 64, 67, 0.3), 0px 1px 3px 1px rgba(60, 64, 67, 0.15);\n",
              "      fill: #174EA6;\n",
              "    }\n",
              "\n",
              "    [theme=dark] .colab-df-convert {\n",
              "      background-color: #3B4455;\n",
              "      fill: #D2E3FC;\n",
              "    }\n",
              "\n",
              "    [theme=dark] .colab-df-convert:hover {\n",
              "      background-color: #434B5C;\n",
              "      box-shadow: 0px 1px 3px 1px rgba(0, 0, 0, 0.15);\n",
              "      filter: drop-shadow(0px 1px 2px rgba(0, 0, 0, 0.3));\n",
              "      fill: #FFFFFF;\n",
              "    }\n",
              "  </style>\n",
              "\n",
              "      <script>\n",
              "        const buttonEl =\n",
              "          document.querySelector('#df-bb2815ff-7c20-4251-80a5-e8bbab50b9df button.colab-df-convert');\n",
              "        buttonEl.style.display =\n",
              "          google.colab.kernel.accessAllowed ? 'block' : 'none';\n",
              "\n",
              "        async function convertToInteractive(key) {\n",
              "          const element = document.querySelector('#df-bb2815ff-7c20-4251-80a5-e8bbab50b9df');\n",
              "          const dataTable =\n",
              "            await google.colab.kernel.invokeFunction('convertToInteractive',\n",
              "                                                     [key], {});\n",
              "          if (!dataTable) return;\n",
              "\n",
              "          const docLinkHtml = 'Like what you see? Visit the ' +\n",
              "            '<a target=\"_blank\" href=https://colab.research.google.com/notebooks/data_table.ipynb>data table notebook</a>'\n",
              "            + ' to learn more about interactive tables.';\n",
              "          element.innerHTML = '';\n",
              "          dataTable['output_type'] = 'display_data';\n",
              "          await google.colab.output.renderOutput(dataTable, element);\n",
              "          const docLink = document.createElement('div');\n",
              "          docLink.innerHTML = docLinkHtml;\n",
              "          element.appendChild(docLink);\n",
              "        }\n",
              "      </script>\n",
              "    </div>\n",
              "  </div>\n",
              "  "
            ]
          },
          "metadata": {},
          "execution_count": 146
        }
      ]
    },
    {
      "cell_type": "code",
      "source": [
        "# Two dates feature and check thier datatype and convert accordingly\n",
        "airdf[['review_date']].dtypes"
      ],
      "metadata": {
        "colab": {
          "base_uri": "https://localhost:8080/"
        },
        "id": "E9ICwnhFfDKw",
        "outputId": "387cb77c-1844-4321-e982-d089e0e97cb6"
      },
      "execution_count": 173,
      "outputs": [
        {
          "output_type": "execute_result",
          "data": {
            "text/plain": [
              "review_date    datetime64[ns]\n",
              "dtype: object"
            ]
          },
          "metadata": {},
          "execution_count": 173
        }
      ]
    },
    {
      "cell_type": "code",
      "source": [
        "# Date format changed\n",
        "airdf['review_date']=pd.to_datetime(airdf['review_date'])"
      ],
      "metadata": {
        "id": "UWj1zHrAiEDZ"
      },
      "execution_count": 152,
      "outputs": []
    },
    {
      "cell_type": "code",
      "source": [
        "# Dates Format\n",
        "airdf['review_date'].head(5)"
      ],
      "metadata": {
        "colab": {
          "base_uri": "https://localhost:8080/"
        },
        "id": "KWxR_lgigfgX",
        "outputId": "55861e46-fa35-4564-a246-19a87c63652c"
      },
      "execution_count": 153,
      "outputs": [
        {
          "output_type": "execute_result",
          "data": {
            "text/plain": [
              "1   2019-05-08\n",
              "3   2019-05-07\n",
              "5   2019-05-07\n",
              "7   2019-05-06\n",
              "9   2019-05-06\n",
              "Name: review_date, dtype: datetime64[ns]"
            ]
          },
          "metadata": {},
          "execution_count": 153
        }
      ]
    },
    {
      "cell_type": "markdown",
      "source": [
        "**EDA and Filling Missing Values**"
      ],
      "metadata": {
        "id": "vrmFqLmRn2JC"
      }
    },
    {
      "cell_type": "markdown",
      "source": [
        "**Target Variable**"
      ],
      "metadata": {
        "id": "EbkZ6Ec6-upA"
      }
    },
    {
      "cell_type": "code",
      "source": [
        "airdf['recommended'].value_counts()"
      ],
      "metadata": {
        "colab": {
          "base_uri": "https://localhost:8080/"
        },
        "id": "p-q4V_0AnniJ",
        "outputId": "d1373775-01bc-4b83-fe66-7b3b53575087"
      },
      "execution_count": 176,
      "outputs": [
        {
          "output_type": "execute_result",
          "data": {
            "text/plain": [
              "no     33894\n",
              "yes    30546\n",
              "Name: recommended, dtype: int64"
            ]
          },
          "metadata": {},
          "execution_count": 176
        }
      ]
    },
    {
      "cell_type": "code",
      "source": [
        "sns.countplot(x = airdf['recommended'].values, palette=['#FFAC1C','#FF0000'])\n",
        "plt.show()"
      ],
      "metadata": {
        "colab": {
          "base_uri": "https://localhost:8080/",
          "height": 266
        },
        "id": "A7JklLP_8wyz",
        "outputId": "13772642-bcb7-45d3-e895-78fc4db50542"
      },
      "execution_count": 184,
      "outputs": [
        {
          "output_type": "display_data",
          "data": {
            "text/plain": [
              "<Figure size 432x288 with 1 Axes>"
            ],
            "image/png": "[encoded data removed]"
          },
          "metadata": {
            "needs_background": "light"
          }
        }
      ]
    },
    {
      "cell_type": "code",
      "source": [
        ""
      ],
      "metadata": {
        "id": "CBNR0EAv9VRv"
      },
      "execution_count": null,
      "outputs": []
    }
  ]
}